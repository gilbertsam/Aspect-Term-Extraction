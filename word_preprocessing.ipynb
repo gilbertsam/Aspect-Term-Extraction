{
 "cells": [
  {
   "cell_type": "code",
   "execution_count": 1,
   "metadata": {},
   "outputs": [],
   "source": [
    "import xml.etree.ElementTree as ET\n",
    "from __future__ import print_function\n",
    "from nltk import word_tokenize"
   ]
  },
  {
   "cell_type": "code",
   "execution_count": 5,
   "metadata": {},
   "outputs": [
    {
     "ename": "NameError",
     "evalue": "name 'xrange' is not defined",
     "output_type": "error",
     "traceback": [
      "\u001b[1;31m---------------------------------------------------------------------------\u001b[0m",
      "\u001b[1;31mNameError\u001b[0m                                 Traceback (most recent call last)",
      "\u001b[1;32m~\\AppData\\Local\\Temp\\ipykernel_4724\\2857044173.py\u001b[0m in \u001b[0;36m<module>\u001b[1;34m\u001b[0m\n\u001b[0;32m     69\u001b[0m     \u001b[0my\u001b[0m\u001b[1;33m.\u001b[0m\u001b[0mwrite\u001b[0m\u001b[1;33m(\u001b[0m\u001b[1;34m' '\u001b[0m\u001b[1;33m.\u001b[0m\u001b[0mjoin\u001b[0m\u001b[1;33m(\u001b[0m\u001b[0mmap\u001b[0m\u001b[1;33m(\u001b[0m\u001b[0mstr\u001b[0m\u001b[1;33m,\u001b[0m \u001b[0mdataset\u001b[0m\u001b[1;33m[\u001b[0m\u001b[1;33m-\u001b[0m\u001b[1;36m1\u001b[0m\u001b[1;33m]\u001b[0m\u001b[1;33m[\u001b[0m\u001b[1;36m1\u001b[0m\u001b[1;33m]\u001b[0m\u001b[1;33m)\u001b[0m\u001b[1;33m)\u001b[0m\u001b[1;33m)\u001b[0m\u001b[1;33m\u001b[0m\u001b[1;33m\u001b[0m\u001b[0m\n\u001b[0;32m     70\u001b[0m \u001b[1;33m\u001b[0m\u001b[0m\n\u001b[1;32m---> 71\u001b[1;33m \u001b[0mprepare_csv\u001b[0m\u001b[1;33m(\u001b[0m\u001b[1;34m'Dataset/test.xml'\u001b[0m\u001b[1;33m,\u001b[0m \u001b[1;34m'Dataset/restaurants_test'\u001b[0m\u001b[1;33m)\u001b[0m\u001b[1;33m\u001b[0m\u001b[1;33m\u001b[0m\u001b[0m\n\u001b[0m\u001b[0;32m     72\u001b[0m \u001b[0mprepare_csv\u001b[0m\u001b[1;33m(\u001b[0m\u001b[1;34m'Dataset/train.xml'\u001b[0m\u001b[1;33m,\u001b[0m \u001b[1;34m'Dataset/restaurants_train'\u001b[0m\u001b[1;33m)\u001b[0m\u001b[1;33m\u001b[0m\u001b[1;33m\u001b[0m\u001b[0m\n\u001b[0;32m     73\u001b[0m \u001b[1;33m\u001b[0m\u001b[0m\n",
      "\u001b[1;32m~\\AppData\\Local\\Temp\\ipykernel_4724\\2857044173.py\u001b[0m in \u001b[0;36mprepare_csv\u001b[1;34m(file_path, output)\u001b[0m\n\u001b[0;32m     62\u001b[0m     \u001b[0my\u001b[0m \u001b[1;33m=\u001b[0m \u001b[0mopen\u001b[0m\u001b[1;33m(\u001b[0m\u001b[0moutput\u001b[0m\u001b[1;33m+\u001b[0m\u001b[1;34m'_y.txt'\u001b[0m\u001b[1;33m,\u001b[0m \u001b[1;34m'w'\u001b[0m\u001b[1;33m)\u001b[0m\u001b[1;33m\u001b[0m\u001b[1;33m\u001b[0m\u001b[0m\n\u001b[0;32m     63\u001b[0m \u001b[1;33m\u001b[0m\u001b[0m\n\u001b[1;32m---> 64\u001b[1;33m     \u001b[1;32mfor\u001b[0m \u001b[0mi\u001b[0m \u001b[1;32min\u001b[0m \u001b[0mxrange\u001b[0m\u001b[1;33m(\u001b[0m\u001b[0mlen\u001b[0m\u001b[1;33m(\u001b[0m\u001b[0mdataset\u001b[0m\u001b[1;33m)\u001b[0m\u001b[1;33m-\u001b[0m\u001b[1;36m1\u001b[0m\u001b[1;33m)\u001b[0m\u001b[1;33m:\u001b[0m\u001b[1;33m\u001b[0m\u001b[1;33m\u001b[0m\u001b[0m\n\u001b[0m\u001b[0;32m     65\u001b[0m         \u001b[0mx\u001b[0m\u001b[1;33m.\u001b[0m\u001b[0mwrite\u001b[0m\u001b[1;33m(\u001b[0m\u001b[1;34mu' '\u001b[0m\u001b[1;33m.\u001b[0m\u001b[0mjoin\u001b[0m\u001b[1;33m(\u001b[0m\u001b[0mdataset\u001b[0m\u001b[1;33m[\u001b[0m\u001b[0mi\u001b[0m\u001b[1;33m]\u001b[0m\u001b[1;33m[\u001b[0m\u001b[1;36m0\u001b[0m\u001b[1;33m]\u001b[0m\u001b[1;33m)\u001b[0m\u001b[1;33m.\u001b[0m\u001b[0mencode\u001b[0m\u001b[1;33m(\u001b[0m\u001b[1;34m'utf-8'\u001b[0m\u001b[1;33m)\u001b[0m\u001b[1;33m.\u001b[0m\u001b[0mstrip\u001b[0m\u001b[1;33m(\u001b[0m\u001b[1;33m)\u001b[0m \u001b[1;33m+\u001b[0m \u001b[1;34m'\\n'\u001b[0m\u001b[1;33m)\u001b[0m\u001b[1;33m\u001b[0m\u001b[1;33m\u001b[0m\u001b[0m\n\u001b[0;32m     66\u001b[0m         \u001b[0my\u001b[0m\u001b[1;33m.\u001b[0m\u001b[0mwrite\u001b[0m\u001b[1;33m(\u001b[0m\u001b[1;34m' '\u001b[0m\u001b[1;33m.\u001b[0m\u001b[0mjoin\u001b[0m\u001b[1;33m(\u001b[0m\u001b[0mmap\u001b[0m\u001b[1;33m(\u001b[0m\u001b[0mstr\u001b[0m\u001b[1;33m,\u001b[0m \u001b[0mdataset\u001b[0m\u001b[1;33m[\u001b[0m\u001b[0mi\u001b[0m\u001b[1;33m]\u001b[0m\u001b[1;33m[\u001b[0m\u001b[1;36m1\u001b[0m\u001b[1;33m]\u001b[0m\u001b[1;33m)\u001b[0m\u001b[1;33m)\u001b[0m \u001b[1;33m+\u001b[0m \u001b[1;34m'\\n'\u001b[0m\u001b[1;33m)\u001b[0m\u001b[1;33m\u001b[0m\u001b[1;33m\u001b[0m\u001b[0m\n",
      "\u001b[1;31mNameError\u001b[0m: name 'xrange' is not defined"
     ]
    }
   ],
   "source": [
    "def prepare_csv(file_path, output):\n",
    "    data = ET.parse(file_path)\n",
    "    reviews = data.getroot()\n",
    "    # root.tag\n",
    "    # root.attrib\n",
    "\n",
    "    dataset = []\n",
    "\n",
    "    for review in reviews:\n",
    "        sentences = review[0]\n",
    "        for sentence in sentences:\n",
    "            if len(sentence) > 1:\n",
    "                raw_text = sentence[0].text.strip()\n",
    "                text = word_tokenize(sentence[0].text.strip())\n",
    "                raw_text = raw_text.split()\n",
    "                \n",
    "                sample = [raw_text, []]\n",
    "                aspects = []\n",
    "\n",
    "                opinions = sentence[1]\n",
    "                for opinion in opinions:\n",
    "                    start = int(opinion.attrib['from'])\n",
    "                    end = int(opinion.attrib['to'])\n",
    "                    if start!=end:\n",
    "                        aspects.append((start, end))\n",
    "                \n",
    "                curr = 0\n",
    "                ai = 0\n",
    "                wi = 0\n",
    "                \n",
    "                while(wi < len(sample[0])):\n",
    "                    if ai<len(aspects) and curr == aspects[ai][0]:\n",
    "                        sample[1].append(1)\n",
    "                        curr += len(sample[0][wi]) + 1\n",
    "                        wi += 1\n",
    "                        while(curr<aspects[ai][1]):\n",
    "                            sample[1].append(2)\n",
    "                            curr += len(sample[0][wi]) + 1\n",
    "                            wi += 1\n",
    "                        ai += 1\n",
    "                    else:\n",
    "                        sample[1].append(0)\n",
    "                        curr += len(sample[0][wi]) + 1\n",
    "                        wi += 1\n",
    "                        \n",
    "                wi = 0\n",
    "                while(wi < len(sample[0])):\n",
    "                    word = sample[0][wi]\n",
    "                    tokens = word_tokenize(word)\n",
    "                    if len(tokens)>1:\n",
    "                        sample[0] = sample[0][0:wi] + tokens + sample[0][wi+1:]\n",
    "                        if sample[1][wi] == 0:\n",
    "                            sample[1] = sample[1][0:wi] + [0]*len(tokens) + sample[1][wi+1:]\n",
    "                        elif sample[1][wi] == 1:\n",
    "                            sample[1] = sample[1][0:wi] + [1] + [2]*(len(tokens)-1) + sample[1][wi+1:]\n",
    "                        else:\n",
    "                            sample[1] = sample[1][0:wi] + [2] * len(tokens) + sample[1][wi+1:]\n",
    "                    wi += 1\n",
    "                    \n",
    "                dataset.append(sample)\n",
    "    x = open(output+'_x.txt', 'w')\n",
    "    y = open(output+'_y.txt', 'w')\n",
    "    \n",
    "    for i in xrange(len(dataset)-1):\n",
    "        x.write(u' '.join(dataset[i][0]).encode('utf-8').strip() + '\\n')\n",
    "        y.write(' '.join(map(str, dataset[i][1])) + '\\n')\n",
    "    # to remove the tailing \\n\n",
    "    x.write(' '.join(dataset[-1][0]))\n",
    "    y.write(' '.join(map(str, dataset[-1][1])))\n",
    "\n",
    "prepare_csv('Dataset/test.xml', 'Dataset/restaurants_test')\n",
    "prepare_csv('Dataset/train.xml', 'Dataset/restaurants_train')\n",
    " "
   ]
  },
  {
   "cell_type": "code",
   "execution_count": null,
   "metadata": {},
   "outputs": [],
   "source": []
  }
 ],
 "metadata": {
  "kernelspec": {
   "display_name": "base",
   "language": "python",
   "name": "python3"
  },
  "language_info": {
   "codemirror_mode": {
    "name": "ipython",
    "version": 3
   },
   "file_extension": ".py",
   "mimetype": "text/x-python",
   "name": "python",
   "nbconvert_exporter": "python",
   "pygments_lexer": "ipython3",
   "version": "3.9.13"
  },
  "orig_nbformat": 4
 },
 "nbformat": 4,
 "nbformat_minor": 2
}
